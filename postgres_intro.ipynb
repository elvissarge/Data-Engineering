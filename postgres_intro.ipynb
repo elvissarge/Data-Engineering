{
 "cells": [
  {
   "cell_type": "code",
   "execution_count": 2,
   "id": "6f361fbc",
   "metadata": {},
   "outputs": [],
   "source": [
    "import psycopg2\n",
    "import pandas as pd"
   ]
  },
  {
   "cell_type": "code",
   "execution_count": 8,
   "id": "515f384c",
   "metadata": {},
   "outputs": [],
   "source": [
    "\n",
    "    try:\n",
    "        conn = psycopg2.connect(\"host=localhost dbname=myfirstdb user=postgres password=27121994\")\n",
    "    except psycopg2.Error as e:\n",
    "        print(\"Error: Could not make connection to postgres database\")\n",
    "        print(e)\n",
    "    cur = conn.cursor()\n",
    "    conn.set_session(autocommit = True)"
   ]
  },
  {
   "cell_type": "code",
   "execution_count": 5,
   "id": "baf79090",
   "metadata": {},
   "outputs": [],
   "source": [
    "try:\n",
    "    cur.execute(\"create database myfirstdb\")\n",
    "except psycopg2.Error as e:\n",
    "    print(\"Error: Could not create database\")\n",
    "    print(e)\n",
    "    "
   ]
  },
  {
   "cell_type": "code",
   "execution_count": 9,
   "id": "b96e1305",
   "metadata": {},
   "outputs": [],
   "source": [
    "cur.execute(\n",
    "    \"CREATE TABLE IF NOT EXISTS Students (student_id int, name varchar, age int, gender varchar, subject varchar, marks int);\"\n",
    ")"
   ]
  },
  {
   "cell_type": "code",
   "execution_count": 17,
   "id": "de2490fc",
   "metadata": {},
   "outputs": [],
   "source": [
    "cur.execute(\"INSERT INTO Students (Student_id, name, age, gender ,subject, marks) VALUES (%s, %s, %s, %s, %s, %s)\",\n",
    "           (2,\"Sarge\", 26, \"Male\", \"Python\", 86))\n",
    "cur.execute(\"INSERT INTO Students (Student_id, name, age, gender ,subject, marks) VALUES (%s, %s, %s, %s, %s, %s)\",\n",
    "           (2,\"Elvis\", 26, \"Male\", \"Java\", 87))"
   ]
  },
  {
   "cell_type": "code",
   "execution_count": 18,
   "id": "63a278d1",
   "metadata": {},
   "outputs": [],
   "source": [
    "cur.execute(\"SELECT * FROM Students\")"
   ]
  },
  {
   "cell_type": "code",
   "execution_count": 19,
   "id": "a1dd890c",
   "metadata": {},
   "outputs": [
    {
     "name": "stdout",
     "output_type": "stream",
     "text": [
      "(2, 'Sarge', 26, 'Male', 'Python', 86)\n",
      "(2, 'Sarge', 26, 'Male', 'Python', 86)\n",
      "(2, 'Elvis', 26, 'Male', 'Java', 87)\n"
     ]
    }
   ],
   "source": [
    "row = cur.fetchone()\n",
    "while row:\n",
    "    print(row)\n",
    "    row = cur.fetchone()"
   ]
  },
  {
   "cell_type": "code",
   "execution_count": 20,
   "id": "f224cd2e",
   "metadata": {},
   "outputs": [],
   "source": [
    "cur.close()\n",
    "conn.close()"
   ]
  },
  {
   "cell_type": "code",
   "execution_count": null,
   "id": "56acb8a8",
   "metadata": {},
   "outputs": [],
   "source": []
  }
 ],
 "metadata": {
  "kernelspec": {
   "display_name": "Python 3 (ipykernel)",
   "language": "python",
   "name": "python3"
  },
  "language_info": {
   "codemirror_mode": {
    "name": "ipython",
    "version": 3
   },
   "file_extension": ".py",
   "mimetype": "text/x-python",
   "name": "python",
   "nbconvert_exporter": "python",
   "pygments_lexer": "ipython3",
   "version": "3.9.1"
  }
 },
 "nbformat": 4,
 "nbformat_minor": 5
}
