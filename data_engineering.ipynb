{
 "cells": [
  {
   "cell_type": "code",
   "execution_count": 328,
   "id": "a607e28a",
   "metadata": {},
   "outputs": [],
   "source": [
    "import psycopg2\n",
    "import pandas as pd\n",
    "import warnings\n",
    "warnings.filterwarnings('ignore')"
   ]
  },
  {
   "cell_type": "code",
   "execution_count": 187,
   "id": "b5450bf6",
   "metadata": {},
   "outputs": [],
   "source": [
    "def create_database():\n",
    "    #connect to default database\n",
    "    conn = psycopg2.connect(\"host=localhost dbname = postgres user=postgres password=27121994\")\n",
    "    conn.set_session(autocommit=True)\n",
    "    cur = conn.cursor()\n",
    "    \n",
    "    #cretae a new database\n",
    "    cur.execute(\"DROP DATABASE IF EXISTS accounts\")\n",
    "    cur.execute(\"CREATE DATABASE accounts\")\n",
    "    \n",
    "    #close connection to default database\n",
    "    conn.close()\n",
    "    \n",
    "    #connect to new database Account\n",
    "    conn = psycopg2.connect(\"host=localhost dbname = accounts user=postgres password=27121994\")\n",
    "    cur = conn.cursor()\n",
    "    \n",
    "    return cur, conn"
   ]
  },
  {
   "cell_type": "code",
   "execution_count": 131,
   "id": "2a5efa91",
   "metadata": {},
   "outputs": [],
   "source": [
    "def drop_table(cur, conn):\n",
    "    for query in drop_table_queries:\n",
    "        cur.execute(query)\n",
    "        conn.commit()"
   ]
  },
  {
   "cell_type": "code",
   "execution_count": 132,
   "id": "d6b85256",
   "metadata": {},
   "outputs": [],
   "source": [
    "def create_table(cur, conn):\n",
    "    for query in create_table_queries:\n",
    "        cur.execute(query)\n",
    "        conn.commit()"
   ]
  },
  {
   "cell_type": "code",
   "execution_count": 329,
   "id": "73ed3af7",
   "metadata": {},
   "outputs": [],
   "source": [
    "transaction = pd.read_csv(\"data/Transaction.csv\")\n",
    "kpmg = pd.read_excel(\"data/KPMG.xlsx\",sheet_name=None)"
   ]
  },
  {
   "cell_type": "code",
   "execution_count": 134,
   "id": "214ec2c0",
   "metadata": {},
   "outputs": [
    {
     "name": "stdout",
     "output_type": "stream",
     "text": [
      "NewCustomerList\n",
      "CustomerDemographic\n",
      "CustomerAddress\n"
     ]
    }
   ],
   "source": [
    "for sheet in kpmg:\n",
    "    print(sheet)"
   ]
  },
  {
   "cell_type": "code",
   "execution_count": 241,
   "id": "d673c2cc",
   "metadata": {
    "scrolled": true
   },
   "outputs": [
    {
     "data": {
      "text/plain": [
       "Index(['customer_id', 'address', 'postcode', 'state', 'country',\n",
       "       'property_valuation'],\n",
       "      dtype='object')"
      ]
     },
     "execution_count": 241,
     "metadata": {},
     "output_type": "execute_result"
    }
   ],
   "source": [
    "address = kpmg.get(\"CustomerAddress\")\n",
    "address.columns"
   ]
  },
  {
   "cell_type": "code",
   "execution_count": 242,
   "id": "7c157057",
   "metadata": {},
   "outputs": [
    {
     "data": {
      "text/html": [
       "<div>\n",
       "<style scoped>\n",
       "    .dataframe tbody tr th:only-of-type {\n",
       "        vertical-align: middle;\n",
       "    }\n",
       "\n",
       "    .dataframe tbody tr th {\n",
       "        vertical-align: top;\n",
       "    }\n",
       "\n",
       "    .dataframe thead th {\n",
       "        text-align: right;\n",
       "    }\n",
       "</style>\n",
       "<table border=\"1\" class=\"dataframe\">\n",
       "  <thead>\n",
       "    <tr style=\"text-align: right;\">\n",
       "      <th></th>\n",
       "      <th>customer_id</th>\n",
       "      <th>address</th>\n",
       "      <th>postcode</th>\n",
       "      <th>state</th>\n",
       "      <th>country</th>\n",
       "      <th>property_valuation</th>\n",
       "    </tr>\n",
       "  </thead>\n",
       "  <tbody>\n",
       "    <tr>\n",
       "      <th>0</th>\n",
       "      <td>1</td>\n",
       "      <td>060 Morning Avenue</td>\n",
       "      <td>2016</td>\n",
       "      <td>New South Wales</td>\n",
       "      <td>Australia</td>\n",
       "      <td>10</td>\n",
       "    </tr>\n",
       "    <tr>\n",
       "      <th>1</th>\n",
       "      <td>2</td>\n",
       "      <td>6 Meadow Vale Court</td>\n",
       "      <td>2153</td>\n",
       "      <td>New South Wales</td>\n",
       "      <td>Australia</td>\n",
       "      <td>10</td>\n",
       "    </tr>\n",
       "    <tr>\n",
       "      <th>2</th>\n",
       "      <td>4</td>\n",
       "      <td>0 Holy Cross Court</td>\n",
       "      <td>4211</td>\n",
       "      <td>QLD</td>\n",
       "      <td>Australia</td>\n",
       "      <td>9</td>\n",
       "    </tr>\n",
       "    <tr>\n",
       "      <th>3</th>\n",
       "      <td>5</td>\n",
       "      <td>17979 Del Mar Point</td>\n",
       "      <td>2448</td>\n",
       "      <td>New South Wales</td>\n",
       "      <td>Australia</td>\n",
       "      <td>4</td>\n",
       "    </tr>\n",
       "    <tr>\n",
       "      <th>4</th>\n",
       "      <td>6</td>\n",
       "      <td>9 Oakridge Court</td>\n",
       "      <td>3216</td>\n",
       "      <td>VIC</td>\n",
       "      <td>Australia</td>\n",
       "      <td>9</td>\n",
       "    </tr>\n",
       "  </tbody>\n",
       "</table>\n",
       "</div>"
      ],
      "text/plain": [
       "   customer_id              address  postcode            state    country  \\\n",
       "0            1   060 Morning Avenue      2016  New South Wales  Australia   \n",
       "1            2  6 Meadow Vale Court      2153  New South Wales  Australia   \n",
       "2            4   0 Holy Cross Court      4211              QLD  Australia   \n",
       "3            5  17979 Del Mar Point      2448  New South Wales  Australia   \n",
       "4            6     9 Oakridge Court      3216              VIC  Australia   \n",
       "\n",
       "   property_valuation  \n",
       "0                  10  \n",
       "1                  10  \n",
       "2                   9  \n",
       "3                   4  \n",
       "4                   9  "
      ]
     },
     "execution_count": 242,
     "metadata": {},
     "output_type": "execute_result"
    }
   ],
   "source": [
    "address.head()"
   ]
  },
  {
   "cell_type": "code",
   "execution_count": 287,
   "id": "3a20ddde",
   "metadata": {
    "scrolled": true
   },
   "outputs": [
    {
     "data": {
      "text/plain": [
       "Index(['transaction_id', 'product_id', 'customer_id', 'transaction_date',\n",
       "       'online_order', 'order_status', 'brand', 'product_line',\n",
       "       'product_class', 'product_size', 'list_price', 'standard_cost',\n",
       "       'product_first_sold_date'],\n",
       "      dtype='object')"
      ]
     },
     "execution_count": 287,
     "metadata": {},
     "output_type": "execute_result"
    }
   ],
   "source": [
    "transaction.columns"
   ]
  },
  {
   "cell_type": "code",
   "execution_count": 330,
   "id": "a4ad74ce",
   "metadata": {
    "scrolled": true
   },
   "outputs": [
    {
     "data": {
      "text/html": [
       "<div>\n",
       "<style scoped>\n",
       "    .dataframe tbody tr th:only-of-type {\n",
       "        vertical-align: middle;\n",
       "    }\n",
       "\n",
       "    .dataframe tbody tr th {\n",
       "        vertical-align: top;\n",
       "    }\n",
       "\n",
       "    .dataframe thead th {\n",
       "        text-align: right;\n",
       "    }\n",
       "</style>\n",
       "<table border=\"1\" class=\"dataframe\">\n",
       "  <thead>\n",
       "    <tr style=\"text-align: right;\">\n",
       "      <th></th>\n",
       "      <th>transaction_id</th>\n",
       "      <th>product_id</th>\n",
       "      <th>customer_id</th>\n",
       "      <th>transaction_date</th>\n",
       "      <th>online_order</th>\n",
       "      <th>brand</th>\n",
       "      <th>product_line</th>\n",
       "      <th>product_class</th>\n",
       "      <th>product_size</th>\n",
       "      <th>list_price</th>\n",
       "      <th>standard_cost</th>\n",
       "    </tr>\n",
       "  </thead>\n",
       "  <tbody>\n",
       "    <tr>\n",
       "      <th>0</th>\n",
       "      <td>1</td>\n",
       "      <td>2</td>\n",
       "      <td>2950</td>\n",
       "      <td>25/02/2017</td>\n",
       "      <td>0.0</td>\n",
       "      <td>Solex</td>\n",
       "      <td>Standard</td>\n",
       "      <td>medium</td>\n",
       "      <td>medium</td>\n",
       "      <td>71.49</td>\n",
       "      <td>53.62</td>\n",
       "    </tr>\n",
       "    <tr>\n",
       "      <th>1</th>\n",
       "      <td>2</td>\n",
       "      <td>3</td>\n",
       "      <td>3120</td>\n",
       "      <td>21/05/2017</td>\n",
       "      <td>1.0</td>\n",
       "      <td>Trek Bicycles</td>\n",
       "      <td>Standard</td>\n",
       "      <td>medium</td>\n",
       "      <td>large</td>\n",
       "      <td>2091.47</td>\n",
       "      <td>388.92</td>\n",
       "    </tr>\n",
       "    <tr>\n",
       "      <th>2</th>\n",
       "      <td>3</td>\n",
       "      <td>37</td>\n",
       "      <td>402</td>\n",
       "      <td>16/10/2017</td>\n",
       "      <td>0.0</td>\n",
       "      <td>OHM Cycles</td>\n",
       "      <td>Standard</td>\n",
       "      <td>low</td>\n",
       "      <td>medium</td>\n",
       "      <td>1793.43</td>\n",
       "      <td>248.82</td>\n",
       "    </tr>\n",
       "    <tr>\n",
       "      <th>3</th>\n",
       "      <td>4</td>\n",
       "      <td>88</td>\n",
       "      <td>3135</td>\n",
       "      <td>31/08/2017</td>\n",
       "      <td>0.0</td>\n",
       "      <td>Norco Bicycles</td>\n",
       "      <td>Standard</td>\n",
       "      <td>medium</td>\n",
       "      <td>medium</td>\n",
       "      <td>1198.46</td>\n",
       "      <td>381.10</td>\n",
       "    </tr>\n",
       "    <tr>\n",
       "      <th>4</th>\n",
       "      <td>5</td>\n",
       "      <td>78</td>\n",
       "      <td>787</td>\n",
       "      <td>01/10/2017</td>\n",
       "      <td>1.0</td>\n",
       "      <td>Giant Bicycles</td>\n",
       "      <td>Standard</td>\n",
       "      <td>medium</td>\n",
       "      <td>large</td>\n",
       "      <td>1765.30</td>\n",
       "      <td>709.48</td>\n",
       "    </tr>\n",
       "  </tbody>\n",
       "</table>\n",
       "</div>"
      ],
      "text/plain": [
       "   transaction_id  product_id  customer_id transaction_date  online_order  \\\n",
       "0               1           2         2950       25/02/2017           0.0   \n",
       "1               2           3         3120       21/05/2017           1.0   \n",
       "2               3          37          402       16/10/2017           0.0   \n",
       "3               4          88         3135       31/08/2017           0.0   \n",
       "4               5          78          787       01/10/2017           1.0   \n",
       "\n",
       "            brand product_line product_class product_size  list_price  \\\n",
       "0           Solex     Standard        medium       medium       71.49   \n",
       "1   Trek Bicycles     Standard        medium        large     2091.47   \n",
       "2      OHM Cycles     Standard           low       medium     1793.43   \n",
       "3  Norco Bicycles     Standard        medium       medium     1198.46   \n",
       "4  Giant Bicycles     Standard        medium        large     1765.30   \n",
       "\n",
       "   standard_cost  \n",
       "0          53.62  \n",
       "1         388.92  \n",
       "2         248.82  \n",
       "3         381.10  \n",
       "4         709.48  "
      ]
     },
     "execution_count": 330,
     "metadata": {},
     "output_type": "execute_result"
    }
   ],
   "source": [
    "\n",
    "transaction_clean = transaction[['transaction_id', 'product_id','customer_id', 'transaction_date', 'online_order','brand',\n",
    "                                 'product_line','product_class', 'product_size','list_price','standard_cost']]\n",
    "transaction_clean.head()"
   ]
  },
  {
   "cell_type": "code",
   "execution_count": 139,
   "id": "6ca5dba8",
   "metadata": {},
   "outputs": [
    {
     "data": {
      "text/plain": [
       "Index(['customer_id', 'first_name', 'last_name', 'gender',\n",
       "       'past_3_years_bike_related_purchases', 'age', 'DOB', 'job_title',\n",
       "       'job_industry_category', 'wealth_segment', 'deceased_indicator',\n",
       "       'default', 'owns_car', 'tenure'],\n",
       "      dtype='object')"
      ]
     },
     "execution_count": 139,
     "metadata": {},
     "output_type": "execute_result"
    }
   ],
   "source": [
    "customer = kpmg.get(\"CustomerDemographic\")\n",
    "customer.columns"
   ]
  },
  {
   "cell_type": "code",
   "execution_count": 140,
   "id": "c2fa6deb",
   "metadata": {
    "scrolled": true
   },
   "outputs": [
    {
     "data": {
      "text/html": [
       "<div>\n",
       "<style scoped>\n",
       "    .dataframe tbody tr th:only-of-type {\n",
       "        vertical-align: middle;\n",
       "    }\n",
       "\n",
       "    .dataframe tbody tr th {\n",
       "        vertical-align: top;\n",
       "    }\n",
       "\n",
       "    .dataframe thead th {\n",
       "        text-align: right;\n",
       "    }\n",
       "</style>\n",
       "<table border=\"1\" class=\"dataframe\">\n",
       "  <thead>\n",
       "    <tr style=\"text-align: right;\">\n",
       "      <th></th>\n",
       "      <th>customer_id</th>\n",
       "      <th>first_name</th>\n",
       "      <th>last_name</th>\n",
       "      <th>gender</th>\n",
       "      <th>past_3_years_bike_related_purchases</th>\n",
       "      <th>age</th>\n",
       "      <th>job_title</th>\n",
       "      <th>job_industry_category</th>\n",
       "      <th>wealth_segment</th>\n",
       "      <th>deceased_indicator</th>\n",
       "      <th>owns_car</th>\n",
       "    </tr>\n",
       "  </thead>\n",
       "  <tbody>\n",
       "    <tr>\n",
       "      <th>0</th>\n",
       "      <td>1</td>\n",
       "      <td>Laraine</td>\n",
       "      <td>Medendorp</td>\n",
       "      <td>F</td>\n",
       "      <td>93</td>\n",
       "      <td>69.0</td>\n",
       "      <td>Executive Secretary</td>\n",
       "      <td>Health</td>\n",
       "      <td>Mass Customer</td>\n",
       "      <td>N</td>\n",
       "      <td>Yes</td>\n",
       "    </tr>\n",
       "    <tr>\n",
       "      <th>1</th>\n",
       "      <td>2</td>\n",
       "      <td>Eli</td>\n",
       "      <td>Bockman</td>\n",
       "      <td>Male</td>\n",
       "      <td>81</td>\n",
       "      <td>42.0</td>\n",
       "      <td>Administrative Officer</td>\n",
       "      <td>Financial Services</td>\n",
       "      <td>Mass Customer</td>\n",
       "      <td>N</td>\n",
       "      <td>Yes</td>\n",
       "    </tr>\n",
       "    <tr>\n",
       "      <th>2</th>\n",
       "      <td>3</td>\n",
       "      <td>Arlin</td>\n",
       "      <td>Dearle</td>\n",
       "      <td>Male</td>\n",
       "      <td>61</td>\n",
       "      <td>69.0</td>\n",
       "      <td>Recruiting Manager</td>\n",
       "      <td>Property</td>\n",
       "      <td>Mass Customer</td>\n",
       "      <td>N</td>\n",
       "      <td>Yes</td>\n",
       "    </tr>\n",
       "    <tr>\n",
       "      <th>3</th>\n",
       "      <td>4</td>\n",
       "      <td>Talbot</td>\n",
       "      <td>NaN</td>\n",
       "      <td>Male</td>\n",
       "      <td>33</td>\n",
       "      <td>61.0</td>\n",
       "      <td>NaN</td>\n",
       "      <td>IT</td>\n",
       "      <td>Mass Customer</td>\n",
       "      <td>N</td>\n",
       "      <td>No</td>\n",
       "    </tr>\n",
       "    <tr>\n",
       "      <th>4</th>\n",
       "      <td>5</td>\n",
       "      <td>Sheila-kathryn</td>\n",
       "      <td>Calton</td>\n",
       "      <td>Female</td>\n",
       "      <td>56</td>\n",
       "      <td>45.0</td>\n",
       "      <td>Senior Editor</td>\n",
       "      <td>NaN</td>\n",
       "      <td>Affluent Customer</td>\n",
       "      <td>N</td>\n",
       "      <td>Yes</td>\n",
       "    </tr>\n",
       "  </tbody>\n",
       "</table>\n",
       "</div>"
      ],
      "text/plain": [
       "   customer_id      first_name  last_name  gender  \\\n",
       "0            1         Laraine  Medendorp       F   \n",
       "1            2             Eli    Bockman    Male   \n",
       "2            3           Arlin     Dearle    Male   \n",
       "3            4          Talbot        NaN    Male   \n",
       "4            5  Sheila-kathryn     Calton  Female   \n",
       "\n",
       "   past_3_years_bike_related_purchases   age               job_title  \\\n",
       "0                                   93  69.0     Executive Secretary   \n",
       "1                                   81  42.0  Administrative Officer   \n",
       "2                                   61  69.0      Recruiting Manager   \n",
       "3                                   33  61.0                     NaN   \n",
       "4                                   56  45.0           Senior Editor   \n",
       "\n",
       "  job_industry_category     wealth_segment deceased_indicator owns_car  \n",
       "0                Health      Mass Customer                  N      Yes  \n",
       "1    Financial Services      Mass Customer                  N      Yes  \n",
       "2              Property      Mass Customer                  N      Yes  \n",
       "3                    IT      Mass Customer                  N       No  \n",
       "4                   NaN  Affluent Customer                  N      Yes  "
      ]
     },
     "execution_count": 140,
     "metadata": {},
     "output_type": "execute_result"
    }
   ],
   "source": [
    "customer_clean = customer[['customer_id', 'first_name', 'last_name', 'gender', 'past_3_years_bike_related_purchases', 'age',\n",
    "                          'job_title', 'job_industry_category', 'wealth_segment', 'deceased_indicator', 'owns_car']]\n",
    "customer_clean.head()"
   ]
  },
  {
   "cell_type": "code",
   "execution_count": 259,
   "id": "d80e6c3d",
   "metadata": {},
   "outputs": [],
   "source": [
    "cur, conn = create_database()"
   ]
  },
  {
   "cell_type": "code",
   "execution_count": 260,
   "id": "eab2374f",
   "metadata": {},
   "outputs": [],
   "source": [
    "customer_table_create = (\"\"\"CREATE TABLE IF NOT EXISTS customers(\n",
    "customer_id INT PRIMARY KEY,\n",
    "first_name VARCHAR,\n",
    "last_name VARCHAR,\n",
    "gender VARCHAR,\n",
    "past3_years_bike_related_purchases INT,\n",
    "age FLOAT,\n",
    "job_title VARCHAR,\n",
    "job_industry_category VARCHAR,\n",
    "wealth_segment VARCHAR,\n",
    "deceased_indicator VARCHAR,\n",
    "owns_car VARCHAR\n",
    ");\"\"\")\n"
   ]
  },
  {
   "cell_type": "code",
   "execution_count": 261,
   "id": "9ef3c957",
   "metadata": {},
   "outputs": [],
   "source": [
    "cur.execute(customer_table_create, vars=None)"
   ]
  },
  {
   "cell_type": "code",
   "execution_count": null,
   "id": "be707db1",
   "metadata": {},
   "outputs": [],
   "source": [
    "conn.commit()"
   ]
  },
  {
   "cell_type": "code",
   "execution_count": 340,
   "id": "5ecd5de8",
   "metadata": {},
   "outputs": [],
   "source": [
    "transaction_table_create = (\"\"\"CREATE TABLE IF NOT EXISTS transaction(\n",
    "transaction_id INT,\n",
    "product_id INT,\n",
    "customer_id INT,\n",
    "transaction_date VARCHAR,\n",
    "online_order INT,\n",
    "brand VARCHAR,\n",
    "product_line VARCHAR,\n",
    "product_class VARCHAR,\n",
    "product_size VARCHAR,\n",
    "list_price FLOAT4,\n",
    "standard_cost FLOAT4\n",
    ");\"\"\")"
   ]
  },
  {
   "cell_type": "code",
   "execution_count": 341,
   "id": "ea7af079",
   "metadata": {
    "scrolled": true
   },
   "outputs": [],
   "source": [
    "cur.execute(transaction_table_create, vars=None)"
   ]
  },
  {
   "cell_type": "code",
   "execution_count": null,
   "id": "0ec6fec6",
   "metadata": {},
   "outputs": [],
   "source": [
    "conn.commit()"
   ]
  },
  {
   "cell_type": "code",
   "execution_count": 264,
   "id": "d16a181b",
   "metadata": {},
   "outputs": [],
   "source": [
    "address_table_create = (\"\"\"CREATE TABLE IF NOT EXISTS address(\n",
    "customer_id INT,\n",
    "address VARCHAR,\n",
    "postcode INT,\n",
    "state VARCHAR,\n",
    "country VARCHAR,\n",
    "property_valuation VARCHAR\n",
    ");\"\"\")\n"
   ]
  },
  {
   "cell_type": "code",
   "execution_count": 265,
   "id": "c9ef2ad0",
   "metadata": {},
   "outputs": [],
   "source": [
    "cur.execute(address_table_create, vars=None)"
   ]
  },
  {
   "cell_type": "code",
   "execution_count": null,
   "id": "fa57915c",
   "metadata": {},
   "outputs": [],
   "source": [
    "conn.commit()"
   ]
  },
  {
   "cell_type": "code",
   "execution_count": 281,
   "id": "15d169a1",
   "metadata": {},
   "outputs": [],
   "source": [
    "insert_into_customers = (\"\"\"INSERT INTO  customers(\n",
    "customer_id,\n",
    "first_name,\n",
    "last_name,\n",
    "gender,\n",
    "past3_years_bike_related_purchases,\n",
    "age,\n",
    "job_title,\n",
    "job_industry_category,\n",
    "wealth_segment,\n",
    "deceased_indicator,\n",
    "owns_car\n",
    ")\n",
    "VALUES(%s,%s,%s,%s,%s,%s,%s,%s,%s,%s,%s)\"\"\")"
   ]
  },
  {
   "cell_type": "code",
   "execution_count": 282,
   "id": "9d9dc733",
   "metadata": {},
   "outputs": [],
   "source": [
    "for i, row in customer_clean.iterrows():\n",
    "    #print(list(row))\n",
    "    cur.execute(insert_into_customers, list(row))"
   ]
  },
  {
   "cell_type": "code",
   "execution_count": 343,
   "id": "f8a3287e",
   "metadata": {},
   "outputs": [],
   "source": [
    "insert_into_transaction = (\"\"\"INSERT INTO transaction(\n",
    "transaction_id,\n",
    "product_id,\n",
    "customer_id,\n",
    "transaction_date,\n",
    "online_order,\n",
    "brand,\n",
    "product_line,\n",
    "product_class,\n",
    "product_size,\n",
    "list_price,\n",
    "standard_cost\n",
    ")\n",
    "VALUES(%s,%s,%s,%s,%s,%s,%s,%s,%s,%s,%s)\"\"\")\n",
    "\n"
   ]
  },
  {
   "cell_type": "code",
   "execution_count": 344,
   "id": "7ddb0032",
   "metadata": {},
   "outputs": [
    {
     "ename": "NumericValueOutOfRange",
     "evalue": "integer out of range\n",
     "output_type": "error",
     "traceback": [
      "\u001b[1;31m---------------------------------------------------------------------------\u001b[0m",
      "\u001b[1;31mNumericValueOutOfRange\u001b[0m                    Traceback (most recent call last)",
      "Cell \u001b[1;32mIn [344], line 3\u001b[0m\n\u001b[0;32m      1\u001b[0m \u001b[38;5;28;01mfor\u001b[39;00m i, row \u001b[38;5;129;01min\u001b[39;00m transaction_clean\u001b[38;5;241m.\u001b[39miterrows():\n\u001b[0;32m      2\u001b[0m     \u001b[38;5;66;03m#print(list(row))\u001b[39;00m\n\u001b[1;32m----> 3\u001b[0m     \u001b[43mcur\u001b[49m\u001b[38;5;241;43m.\u001b[39;49m\u001b[43mexecute\u001b[49m\u001b[43m(\u001b[49m\u001b[43minsert_into_transaction\u001b[49m\u001b[43m,\u001b[49m\u001b[43m \u001b[49m\u001b[38;5;28;43mlist\u001b[39;49m\u001b[43m(\u001b[49m\u001b[43mrow\u001b[49m\u001b[43m)\u001b[49m\u001b[43m)\u001b[49m\n",
      "\u001b[1;31mNumericValueOutOfRange\u001b[0m: integer out of range\n"
     ]
    }
   ],
   "source": [
    "for i, row in transaction_clean.iterrows():\n",
    "    #print(list(row))\n",
    "    cur.execute(insert_into_transaction, list(row))"
   ]
  },
  {
   "cell_type": "code",
   "execution_count": 342,
   "id": "7a8a518a",
   "metadata": {},
   "outputs": [],
   "source": [
    "conn.commit()"
   ]
  },
  {
   "cell_type": "code",
   "execution_count": 278,
   "id": "62977c66",
   "metadata": {},
   "outputs": [],
   "source": [
    "insert_into_address = (\"\"\"INSERT INTO address(\n",
    "customer_id,\n",
    "address,\n",
    "postcode,\n",
    "state,\n",
    "country,\n",
    "property_valuation\n",
    ")\n",
    "VALUES(%s,%s,%s,%s,%s,%s)\"\"\")"
   ]
  },
  {
   "cell_type": "code",
   "execution_count": 279,
   "id": "00e7c4fd",
   "metadata": {},
   "outputs": [],
   "source": [
    "for i, row in address.iterrows():\n",
    "    #print(list(row))\n",
    "    cur.execute(insert_into_address, list(row))\n",
    "    "
   ]
  },
  {
   "cell_type": "code",
   "execution_count": 339,
   "id": "5b917a28",
   "metadata": {},
   "outputs": [],
   "source": [
    "conn.commit()"
   ]
  },
  {
   "cell_type": "code",
   "execution_count": 258,
   "id": "b29b61e3",
   "metadata": {},
   "outputs": [],
   "source": [
    "cur.close()\n",
    "conn.close()"
   ]
  },
  {
   "cell_type": "code",
   "execution_count": 322,
   "id": "ae6c44bf",
   "metadata": {},
   "outputs": [
    {
     "data": {
      "text/plain": [
       "<cursor object at 0x000001D0E59A34A0; closed: 0>"
      ]
     },
     "execution_count": 322,
     "metadata": {},
     "output_type": "execute_result"
    }
   ],
   "source": [
    "cur"
   ]
  },
  {
   "cell_type": "code",
   "execution_count": null,
   "id": "94fb6656",
   "metadata": {},
   "outputs": [],
   "source": []
  },
  {
   "cell_type": "code",
   "execution_count": null,
   "id": "a6ec6e6b",
   "metadata": {},
   "outputs": [],
   "source": []
  },
  {
   "cell_type": "code",
   "execution_count": null,
   "id": "4c311415",
   "metadata": {},
   "outputs": [],
   "source": []
  },
  {
   "cell_type": "code",
   "execution_count": null,
   "id": "ffe29d00",
   "metadata": {},
   "outputs": [],
   "source": []
  },
  {
   "cell_type": "code",
   "execution_count": null,
   "id": "de5e8dbb",
   "metadata": {},
   "outputs": [],
   "source": []
  }
 ],
 "metadata": {
  "kernelspec": {
   "display_name": "Python 3 (ipykernel)",
   "language": "python",
   "name": "python3"
  },
  "language_info": {
   "codemirror_mode": {
    "name": "ipython",
    "version": 3
   },
   "file_extension": ".py",
   "mimetype": "text/x-python",
   "name": "python",
   "nbconvert_exporter": "python",
   "pygments_lexer": "ipython3",
   "version": "3.9.1"
  }
 },
 "nbformat": 4,
 "nbformat_minor": 5
}
